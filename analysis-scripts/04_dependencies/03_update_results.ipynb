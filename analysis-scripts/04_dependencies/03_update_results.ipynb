{
 "metadata": {
  "language_info": {
   "codemirror_mode": {
    "name": "ipython",
    "version": 3
   },
   "file_extension": ".py",
   "mimetype": "text/x-python",
   "name": "python",
   "nbconvert_exporter": "python",
   "pygments_lexer": "ipython3",
   "version": "3.9.1"
  },
  "orig_nbformat": 2,
  "kernelspec": {
   "name": "python391jvsc74a57bd09c25538c2a9117fbfde3642af8e9cf21789c5815496a0e906a9d26f99a6b6666",
   "display_name": "Python 3.9.1 64-bit ('.venv': venv)"
  }
 },
 "nbformat": 4,
 "nbformat_minor": 2,
 "cells": [
  {
   "cell_type": "code",
   "execution_count": 10,
   "metadata": {},
   "outputs": [],
   "source": [
    "import os, sys, re\n",
    "import sqlite3, csv\n",
    "import argparse\n",
    "from tqdm.notebook import tqdm\n",
    "import json\n",
    "import pandas as pd\n",
    "import requirements\n",
    "# %pip install ipywidgets"
   ]
  },
  {
   "cell_type": "code",
   "execution_count": 2,
   "metadata": {},
   "outputs": [],
   "source": [
    "args = {\n",
    "    \"python_files\": \"/home/gjungwirth/data/02_data/03_analyses/library_versions/requirements-files\",\n",
    "    \"node_deps\": \"/home/gjungwirth/data/02_data/03_analyses/library_versions/packagejson-deps.csv\",\n",
    "    \"db\": \"/home/gjungwirth/data/02_data/results.db\"\n",
    "}"
   ]
  },
  {
   "cell_type": "code",
   "execution_count": 3,
   "metadata": {},
   "outputs": [
    {
     "output_type": "execute_result",
     "data": {
      "text/plain": [
       "                          name                        version  \\\n",
       "0                         bent                        ^7.3.10   \n",
       "1                      request                        ^2.88.2   \n",
       "2              underscore-plus                         ^1.2.1   \n",
       "3                  js-beautify                          1.7.4   \n",
       "4                 highlight.js                        ^9.13.1   \n",
       "...                        ...                            ...   \n",
       "145618   eslint-config-dmitmel  dmitmel/eslint-config-dmitmel   \n",
       "145619  eslint-config-prettier                              *   \n",
       "145620      eslint-plugin-node                              *   \n",
       "145621  eslint-plugin-prettier                              *   \n",
       "145622                prettier                              *   \n",
       "\n",
       "                   type                                           filepath  \\\n",
       "0          dependencies         repos/monkpow_dotfiles/github/package.json   \n",
       "1          dependencies         repos/monkpow_dotfiles/github/package.json   \n",
       "2          dependencies  repos/tom-lpsd_confs/atom/packages/emacs-mode/...   \n",
       "3          dependencies  repos/glenngillen_dotfiles/.vscode/extensions/...   \n",
       "4          dependencies  repos/glenngillen_dotfiles/.vscode/extensions/...   \n",
       "...                 ...                                                ...   \n",
       "145618  devDependencies  repos_part2/keanuplayz_dotfiles/script-resourc...   \n",
       "145619  devDependencies  repos_part2/keanuplayz_dotfiles/script-resourc...   \n",
       "145620  devDependencies  repos_part2/keanuplayz_dotfiles/script-resourc...   \n",
       "145621  devDependencies  repos_part2/keanuplayz_dotfiles/script-resourc...   \n",
       "145622  devDependencies  repos_part2/keanuplayz_dotfiles/script-resourc...   \n",
       "\n",
       "                        repo  \\\n",
       "0           monkpow_dotfiles   \n",
       "1           monkpow_dotfiles   \n",
       "2             tom-lpsd_confs   \n",
       "3       glenngillen_dotfiles   \n",
       "4       glenngillen_dotfiles   \n",
       "...                      ...   \n",
       "145618   keanuplayz_dotfiles   \n",
       "145619   keanuplayz_dotfiles   \n",
       "145620   keanuplayz_dotfiles   \n",
       "145621   keanuplayz_dotfiles   \n",
       "145622   keanuplayz_dotfiles   \n",
       "\n",
       "                                             filepath_new filename_only  \n",
       "0                                     github/package.json  package.json  \n",
       "1                                     github/package.json  package.json  \n",
       "2                   atom/packages/emacs-mode/package.json  package.json  \n",
       "3       .vscode/extensions/aeschli.vscode-css-formatte...  package.json  \n",
       "4       .vscode/extensions/bierner.markdown-preview-gi...  package.json  \n",
       "...                                                   ...           ...  \n",
       "145618     script-resources/markdown2htmldoc/package.json  package.json  \n",
       "145619     script-resources/markdown2htmldoc/package.json  package.json  \n",
       "145620     script-resources/markdown2htmldoc/package.json  package.json  \n",
       "145621     script-resources/markdown2htmldoc/package.json  package.json  \n",
       "145622     script-resources/markdown2htmldoc/package.json  package.json  \n",
       "\n",
       "[145623 rows x 7 columns]"
      ],
      "text/html": "<div>\n<style scoped>\n    .dataframe tbody tr th:only-of-type {\n        vertical-align: middle;\n    }\n\n    .dataframe tbody tr th {\n        vertical-align: top;\n    }\n\n    .dataframe thead th {\n        text-align: right;\n    }\n</style>\n<table border=\"1\" class=\"dataframe\">\n  <thead>\n    <tr style=\"text-align: right;\">\n      <th></th>\n      <th>name</th>\n      <th>version</th>\n      <th>type</th>\n      <th>filepath</th>\n      <th>repo</th>\n      <th>filepath_new</th>\n      <th>filename_only</th>\n    </tr>\n  </thead>\n  <tbody>\n    <tr>\n      <th>0</th>\n      <td>bent</td>\n      <td>^7.3.10</td>\n      <td>dependencies</td>\n      <td>repos/monkpow_dotfiles/github/package.json</td>\n      <td>monkpow_dotfiles</td>\n      <td>github/package.json</td>\n      <td>package.json</td>\n    </tr>\n    <tr>\n      <th>1</th>\n      <td>request</td>\n      <td>^2.88.2</td>\n      <td>dependencies</td>\n      <td>repos/monkpow_dotfiles/github/package.json</td>\n      <td>monkpow_dotfiles</td>\n      <td>github/package.json</td>\n      <td>package.json</td>\n    </tr>\n    <tr>\n      <th>2</th>\n      <td>underscore-plus</td>\n      <td>^1.2.1</td>\n      <td>dependencies</td>\n      <td>repos/tom-lpsd_confs/atom/packages/emacs-mode/...</td>\n      <td>tom-lpsd_confs</td>\n      <td>atom/packages/emacs-mode/package.json</td>\n      <td>package.json</td>\n    </tr>\n    <tr>\n      <th>3</th>\n      <td>js-beautify</td>\n      <td>1.7.4</td>\n      <td>dependencies</td>\n      <td>repos/glenngillen_dotfiles/.vscode/extensions/...</td>\n      <td>glenngillen_dotfiles</td>\n      <td>.vscode/extensions/aeschli.vscode-css-formatte...</td>\n      <td>package.json</td>\n    </tr>\n    <tr>\n      <th>4</th>\n      <td>highlight.js</td>\n      <td>^9.13.1</td>\n      <td>dependencies</td>\n      <td>repos/glenngillen_dotfiles/.vscode/extensions/...</td>\n      <td>glenngillen_dotfiles</td>\n      <td>.vscode/extensions/bierner.markdown-preview-gi...</td>\n      <td>package.json</td>\n    </tr>\n    <tr>\n      <th>...</th>\n      <td>...</td>\n      <td>...</td>\n      <td>...</td>\n      <td>...</td>\n      <td>...</td>\n      <td>...</td>\n      <td>...</td>\n    </tr>\n    <tr>\n      <th>145618</th>\n      <td>eslint-config-dmitmel</td>\n      <td>dmitmel/eslint-config-dmitmel</td>\n      <td>devDependencies</td>\n      <td>repos_part2/keanuplayz_dotfiles/script-resourc...</td>\n      <td>keanuplayz_dotfiles</td>\n      <td>script-resources/markdown2htmldoc/package.json</td>\n      <td>package.json</td>\n    </tr>\n    <tr>\n      <th>145619</th>\n      <td>eslint-config-prettier</td>\n      <td>*</td>\n      <td>devDependencies</td>\n      <td>repos_part2/keanuplayz_dotfiles/script-resourc...</td>\n      <td>keanuplayz_dotfiles</td>\n      <td>script-resources/markdown2htmldoc/package.json</td>\n      <td>package.json</td>\n    </tr>\n    <tr>\n      <th>145620</th>\n      <td>eslint-plugin-node</td>\n      <td>*</td>\n      <td>devDependencies</td>\n      <td>repos_part2/keanuplayz_dotfiles/script-resourc...</td>\n      <td>keanuplayz_dotfiles</td>\n      <td>script-resources/markdown2htmldoc/package.json</td>\n      <td>package.json</td>\n    </tr>\n    <tr>\n      <th>145621</th>\n      <td>eslint-plugin-prettier</td>\n      <td>*</td>\n      <td>devDependencies</td>\n      <td>repos_part2/keanuplayz_dotfiles/script-resourc...</td>\n      <td>keanuplayz_dotfiles</td>\n      <td>script-resources/markdown2htmldoc/package.json</td>\n      <td>package.json</td>\n    </tr>\n    <tr>\n      <th>145622</th>\n      <td>prettier</td>\n      <td>*</td>\n      <td>devDependencies</td>\n      <td>repos_part2/keanuplayz_dotfiles/script-resourc...</td>\n      <td>keanuplayz_dotfiles</td>\n      <td>script-resources/markdown2htmldoc/package.json</td>\n      <td>package.json</td>\n    </tr>\n  </tbody>\n</table>\n<p>145623 rows × 7 columns</p>\n</div>"
     },
     "metadata": {},
     "execution_count": 3
    }
   ],
   "source": [
    "df_node = pd.read_csv(args[\"node_deps\"], names=['name','version','type','filepath'])\n",
    "\n",
    "df_node[[\"repo\",\"filepath_new\"]] = df_node.filepath.str.split('/', n=2, expand=True).get([1,2])\n",
    "\n",
    "df_node[\"filename_only\"] = df_node.filepath_new.str.split(\"/\").str[-1]\n",
    "\n",
    "df_node"
   ]
  },
  {
   "cell_type": "code",
   "execution_count": 39,
   "metadata": {},
   "outputs": [
    {
     "output_type": "stream",
     "name": "stderr",
     "text": [
      "/home/gjungwirth/data/02_data/.venv/lib/python3.9/site-packages/requirements/parser.py:44: UserWarning: Private repos not supported. Skipping.\n",
      "  warnings.warn('Private repos not supported. Skipping.')\n",
      "Errors: 36/1340\n"
     ]
    }
   ],
   "source": [
    "import os\n",
    "os.getcwd()\n",
    "os.chdir('/home/gjungwirth/data/02_data/')\n",
    "\n",
    "req_files = []\n",
    "with open(args['python_files']) as f:\n",
    "    req_files = [line.rstrip() for line in f]\n",
    "    # req_files[0:1]\n",
    "\n",
    "error_cnt=0\n",
    "all_reqs = []\n",
    "for reqfile in req_files:\n",
    "    try:\n",
    "        with open(reqfile) as f:\n",
    "            for req in requirements.parse(f):\n",
    "                name = req.name\n",
    "                spec_string = \",\".join(map(\"\".join, req.specs))\n",
    "                (_, repo, filepath_new) = reqfile.split('/', maxsplit=2)\n",
    "                filename_only = filepath_new.split('/')[-1]\n",
    "                #print(\"{}, spec: {} repo: {}, filepath_new: {}, filename: {}\".format(name, spec_string, repo, filepath_new, filename_only))\n",
    "                all_reqs.append([\n",
    "                    name, spec_string, reqfile, repo, filepath_new, filename_only\n",
    "                ])\n",
    "    except:\n",
    "        error_cnt+=1\n",
    "\n",
    "print(\"Errors: {}/{}\".format(error_cnt,len(req_files)))\n",
    "\n",
    "df_python = pd.DataFrame(all_reqs, columns=[\"name\",\"version\",\"filepath\",\"repo\",\"filepath_new\",\"filename_only\"])"
   ]
  },
  {
   "cell_type": "code",
   "execution_count": 40,
   "metadata": {},
   "outputs": [
    {
     "output_type": "display_data",
     "data": {
      "text/plain": "          name version             type  \\\ncount   145522  145261           145623   \nunique    5597    4630                2   \ntop      mocha  ^1.0.0  devDependencies   \nfreq      6103    6456            96869   \n\n                                                 filepath  \\\ncount                                              145623   \nunique                                              20578   \ntop     repos_part2/alisonamerico_dotfiles/.vscode/ext...   \nfreq                                                  285   \n\n                        repo  filepath_new filename_only  \ncount                 145623        145623        145623  \nunique                   585         12671             1  \ntop     rafaelconde_dotfiles  package.json  package.json  \nfreq                   21410           940        145623  ",
      "text/html": "<div>\n<style scoped>\n    .dataframe tbody tr th:only-of-type {\n        vertical-align: middle;\n    }\n\n    .dataframe tbody tr th {\n        vertical-align: top;\n    }\n\n    .dataframe thead th {\n        text-align: right;\n    }\n</style>\n<table border=\"1\" class=\"dataframe\">\n  <thead>\n    <tr style=\"text-align: right;\">\n      <th></th>\n      <th>name</th>\n      <th>version</th>\n      <th>type</th>\n      <th>filepath</th>\n      <th>repo</th>\n      <th>filepath_new</th>\n      <th>filename_only</th>\n    </tr>\n  </thead>\n  <tbody>\n    <tr>\n      <th>count</th>\n      <td>145522</td>\n      <td>145261</td>\n      <td>145623</td>\n      <td>145623</td>\n      <td>145623</td>\n      <td>145623</td>\n      <td>145623</td>\n    </tr>\n    <tr>\n      <th>unique</th>\n      <td>5597</td>\n      <td>4630</td>\n      <td>2</td>\n      <td>20578</td>\n      <td>585</td>\n      <td>12671</td>\n      <td>1</td>\n    </tr>\n    <tr>\n      <th>top</th>\n      <td>mocha</td>\n      <td>^1.0.0</td>\n      <td>devDependencies</td>\n      <td>repos_part2/alisonamerico_dotfiles/.vscode/ext...</td>\n      <td>rafaelconde_dotfiles</td>\n      <td>package.json</td>\n      <td>package.json</td>\n    </tr>\n    <tr>\n      <th>freq</th>\n      <td>6103</td>\n      <td>6456</td>\n      <td>96869</td>\n      <td>285</td>\n      <td>21410</td>\n      <td>940</td>\n      <td>145623</td>\n    </tr>\n  </tbody>\n</table>\n</div>"
     },
     "metadata": {}
    },
    {
     "output_type": "display_data",
     "data": {
      "text/plain": "          name version                                    filepath  \\\ncount    16321   16410                                       16410   \nunique    3027    1913                                        1286   \ntop     flake8          repos_part2/nraw_dotfiles/requirements.txt   \nfreq       255    4750                                         499   \n\n                 repo      filepath_new     filename_only  \ncount           16410             16410             16410  \nunique           1043               592                 3  \ntop     nraw_dotfiles  requirements.txt  requirements.txt  \nfreq              499              7673             16370  ",
      "text/html": "<div>\n<style scoped>\n    .dataframe tbody tr th:only-of-type {\n        vertical-align: middle;\n    }\n\n    .dataframe tbody tr th {\n        vertical-align: top;\n    }\n\n    .dataframe thead th {\n        text-align: right;\n    }\n</style>\n<table border=\"1\" class=\"dataframe\">\n  <thead>\n    <tr style=\"text-align: right;\">\n      <th></th>\n      <th>name</th>\n      <th>version</th>\n      <th>filepath</th>\n      <th>repo</th>\n      <th>filepath_new</th>\n      <th>filename_only</th>\n    </tr>\n  </thead>\n  <tbody>\n    <tr>\n      <th>count</th>\n      <td>16321</td>\n      <td>16410</td>\n      <td>16410</td>\n      <td>16410</td>\n      <td>16410</td>\n      <td>16410</td>\n    </tr>\n    <tr>\n      <th>unique</th>\n      <td>3027</td>\n      <td>1913</td>\n      <td>1286</td>\n      <td>1043</td>\n      <td>592</td>\n      <td>3</td>\n    </tr>\n    <tr>\n      <th>top</th>\n      <td>flake8</td>\n      <td></td>\n      <td>repos_part2/nraw_dotfiles/requirements.txt</td>\n      <td>nraw_dotfiles</td>\n      <td>requirements.txt</td>\n      <td>requirements.txt</td>\n    </tr>\n    <tr>\n      <th>freq</th>\n      <td>255</td>\n      <td>4750</td>\n      <td>499</td>\n      <td>499</td>\n      <td>7673</td>\n      <td>16370</td>\n    </tr>\n  </tbody>\n</table>\n</div>"
     },
     "metadata": {}
    }
   ],
   "source": [
    "display(df_node.describe())\n",
    "display(df_python.describe())   "
   ]
  },
  {
   "cell_type": "code",
   "execution_count": 43,
   "metadata": {},
   "outputs": [],
   "source": [
    "db = sqlite3.connect(args['db'])\n",
    "\n",
    "db.execute('''\n",
    "CREATE TABLE IF NOT EXISTS dependency (\n",
    "    dependency_id INTEGER PRIMARY KEY,\n",
    "    file_id INTEGER NOT NULL,\n",
    "    type TEXT NOT NULL, -- (javascript, python)\n",
    "    name TEXT NOT NULL,\n",
    "    version TEXT NOT NULL,\n",
    "    isDev BOOLEAN NOT NULL,\n",
    "    -- tags TEXT NOT NULL,\n",
    "    FOREIGN KEY (file_id) REFERENCES file (file_id),\n",
    "    UNIQUE (file_id, type, name, version)\n",
    ");\n",
    "''')\n",
    "db.commit()"
   ]
  },
  {
   "cell_type": "code",
   "execution_count": 42,
   "metadata": {
    "tags": []
   },
   "outputs": [
    {
     "output_type": "stream",
     "name": "stdout",
     "text": [
      "Empty: 143/1286 = 11%\n"
     ]
    }
   ],
   "source": [
    "# only a test to find historic files (hopefully they are zero here)\n",
    "\n",
    "num_total = 0\n",
    "num_empty = 0\n",
    "\n",
    "for row in df_python.drop_duplicates(subset=[\"filepath_new\",\"repo\"]).itertuples():\n",
    "    # print(leak['file'],repo_folder)\n",
    "    cur = db.execute('''\n",
    "        SELECT f.file_id\n",
    "        FROM file f JOIN repo r ON f.repo_id=r.repo_id\n",
    "        WHERE\n",
    "        f.file_path = ? AND\n",
    "        r.folder_name = ?\n",
    "        ''', \n",
    "        (row.filepath_new, row.repo)\n",
    "        )\n",
    "    if not cur.fetchall():\n",
    "        num_empty+=1\n",
    "    num_total+=1\n",
    "\n",
    "print(\"Empty: {}/{} = {}%\".format(num_empty, num_total, int(num_empty*100/num_total)))"
   ]
  },
  {
   "cell_type": "code",
   "execution_count": 46,
   "metadata": {},
   "outputs": [
    {
     "output_type": "execute_result",
     "data": {
      "text/plain": [
       "145623"
      ]
     },
     "metadata": {},
     "execution_count": 46
    }
   ],
   "source": [
    "df_node.shape[0]"
   ]
  },
  {
   "cell_type": "code",
   "execution_count": 49,
   "metadata": {},
   "outputs": [
    {
     "output_type": "display_data",
     "data": {
      "text/plain": "HBox(children=(HTML(value=''), FloatProgress(value=0.0, max=145623.0), HTML(value='')))",
      "application/vnd.jupyter.widget-view+json": {
       "version_major": 2,
       "version_minor": 0,
       "model_id": "ea1659dfc09243dab2478bdd1874964a"
      }
     },
     "metadata": {}
    }
   ],
   "source": [
    "# Insert Node Dependencies (easier separate)\n",
    "\n",
    "pbar = tqdm(total=df_node.shape[0])\n",
    "\n",
    "for row in df_node.itertuples():\n",
    "    \n",
    "    db.execute('''\n",
    "        INSERT OR IGNORE INTO file\n",
    "        (repo_id, file_name, file_path, is_deleted, size, sha, mime, no_lines)\n",
    "        VALUES\n",
    "        (\n",
    "            (SELECT repo_id FROM repo WHERE folder_name = ?),\n",
    "            ?, ?,\n",
    "            TRUE,\n",
    "            -1, \"\", \"\", -1\n",
    "        );\n",
    "        ''',\n",
    "        (row.repo, row.filename_only, row.filepath_new)\n",
    "        )\n",
    "    db.commit()\n",
    "    db.execute('''\n",
    "        INSERT OR IGNORE INTO dependency\n",
    "        (file_id, type, name, version, isDev)\n",
    "        VALUES\n",
    "        (\n",
    "            (SELECT file_id FROM file f JOIN repo r ON f.repo_id=r.repo_id WHERE r.folder_name = ? AND f.file_path = ?),\n",
    "            \"javascript\",\n",
    "            ?,\n",
    "            ?,\n",
    "            ?\n",
    "        );''',\n",
    "        (\n",
    "            row.repo, row.filepath_new,\n",
    "            row.name,\n",
    "            row.version,\n",
    "            (row.type == \"devDependencies\")\n",
    "        ))\n",
    "    db.commit()\n",
    "    pbar.update()\n",
    "\n"
   ]
  },
  {
   "cell_type": "code",
   "execution_count": 50,
   "metadata": {},
   "outputs": [
    {
     "output_type": "display_data",
     "data": {
      "text/plain": "HBox(children=(HTML(value=''), FloatProgress(value=0.0, max=16410.0), HTML(value='')))",
      "application/vnd.jupyter.widget-view+json": {
       "version_major": 2,
       "version_minor": 0,
       "model_id": "b63599051a5a424492f92ab943665dea"
      }
     },
     "metadata": {}
    }
   ],
   "source": [
    "# Insert Python Dependencies\n",
    "\n",
    "pbar = tqdm(total=df_python.shape[0])\n",
    "\n",
    "for row in df_python.itertuples():\n",
    "    \n",
    "    db.execute('''\n",
    "        INSERT OR IGNORE INTO file\n",
    "        (repo_id, file_name, file_path, is_deleted, size, sha, mime, no_lines)\n",
    "        VALUES\n",
    "        (\n",
    "            (SELECT repo_id FROM repo WHERE folder_name = ?),\n",
    "            ?, ?,\n",
    "            TRUE,\n",
    "            -1, \"\", \"\", -1\n",
    "        );\n",
    "        ''',\n",
    "        (row.repo, row.filename_only, row.filepath_new)\n",
    "        )\n",
    "    db.commit()\n",
    "    db.execute('''\n",
    "        INSERT OR IGNORE INTO dependency\n",
    "        (file_id, type, name, version, isDev)\n",
    "        VALUES\n",
    "        (\n",
    "            (SELECT file_id FROM file f JOIN repo r ON f.repo_id=r.repo_id WHERE r.folder_name = ? AND f.file_path = ?),\n",
    "            \"python\",\n",
    "            ?,\n",
    "            ?,\n",
    "            FALSE\n",
    "        );''',\n",
    "        (\n",
    "            row.repo, row.filepath_new,\n",
    "            row.name,\n",
    "            row.version\n",
    "        ))\n",
    "    db.commit()\n",
    "    pbar.update()\n",
    "\n"
   ]
  },
  {
   "cell_type": "code",
   "execution_count": 51,
   "metadata": {},
   "outputs": [],
   "source": [
    "db.close()"
   ]
  }
 ]
}