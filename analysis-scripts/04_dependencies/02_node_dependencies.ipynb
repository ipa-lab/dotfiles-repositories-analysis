{
 "metadata": {
  "orig_nbformat": 2,
  "kernelspec": {
   "name": "python391jvsc74a57bd09c25538c2a9117fbfde3642af8e9cf21789c5815496a0e906a9d26f99a6b6666",
   "display_name": "Python 3.9.1 64-bit ('.venv')"
  }
 },
 "nbformat": 4,
 "nbformat_minor": 2,
 "cells": [
  {
   "source": [
    "# Node Dependencies\n",
    "\n",
    "Preparation (already done):\n",
    "\n",
    "```bash\n",
    "grep -v 'node_modules' 03_analyses/library_versions/packagejson-files | xargs jq -s '[ .[].devDependencies | . | objects | to_entries | map([.key,.value, \"devDependencies\",input_filename]) ] | add' 2>/dev/null | jq -sr 'add | .[] | select(all(type==\"string\")) | @csv' >03_analyses/library_versions/packagejson-deps.csv\n",
    "\n",
    "grep -v 'node_modules' 03_analyses/library_versions/packagejson-files | xargs jq -s '[ .[].dependencies | . | objects | to_entries | map([.key,.value, \"dependencies\",input_filename]) ] | add' 2>/dev/null | jq -sr 'add | .[] | select(all(type==\"string\")) | @csv' >>03_analyses/library_versions/packagejson-deps.csv\n",
    "```"
   ],
   "cell_type": "markdown",
   "metadata": {}
  },
  {
   "source": [
    "import pandas as pd\n",
    "\n",
    "filename = '/home/gjungwirth/data/02_data/03_analyses/library_versions/packagejson-deps.csv'\n",
    "\n",
    "df = pd.read_csv(filename,names=['name','version','type','filepath'])"
   ],
   "cell_type": "code",
   "metadata": {},
   "execution_count": 8,
   "outputs": []
  },
  {
   "cell_type": "code",
   "execution_count": 9,
   "metadata": {},
   "outputs": [
    {
     "output_type": "execute_result",
     "data": {
      "text/plain": [
       "                   unique_values  counts\n",
       "0                          mocha    6467\n",
       "1                         eslint    2383\n",
       "2                            tap    2274\n",
       "3                           tape    2268\n",
       "4                       istanbul    2061\n",
       "...                          ...     ...\n",
       "6260  eslint-plugin-prefer-arrow       1\n",
       "6261            @types/pluralize       1\n",
       "6262     react-redux-loading-bar       1\n",
       "6263                    dagre-d3       1\n",
       "6264          create-guten-block       1\n",
       "\n",
       "[6265 rows x 2 columns]"
      ],
      "text/html": "<div>\n<style scoped>\n    .dataframe tbody tr th:only-of-type {\n        vertical-align: middle;\n    }\n\n    .dataframe tbody tr th {\n        vertical-align: top;\n    }\n\n    .dataframe thead th {\n        text-align: right;\n    }\n</style>\n<table border=\"1\" class=\"dataframe\">\n  <thead>\n    <tr style=\"text-align: right;\">\n      <th></th>\n      <th>unique_values</th>\n      <th>counts</th>\n    </tr>\n  </thead>\n  <tbody>\n    <tr>\n      <th>0</th>\n      <td>mocha</td>\n      <td>6467</td>\n    </tr>\n    <tr>\n      <th>1</th>\n      <td>eslint</td>\n      <td>2383</td>\n    </tr>\n    <tr>\n      <th>2</th>\n      <td>tap</td>\n      <td>2274</td>\n    </tr>\n    <tr>\n      <th>3</th>\n      <td>tape</td>\n      <td>2268</td>\n    </tr>\n    <tr>\n      <th>4</th>\n      <td>istanbul</td>\n      <td>2061</td>\n    </tr>\n    <tr>\n      <th>...</th>\n      <td>...</td>\n      <td>...</td>\n    </tr>\n    <tr>\n      <th>6260</th>\n      <td>eslint-plugin-prefer-arrow</td>\n      <td>1</td>\n    </tr>\n    <tr>\n      <th>6261</th>\n      <td>@types/pluralize</td>\n      <td>1</td>\n    </tr>\n    <tr>\n      <th>6262</th>\n      <td>react-redux-loading-bar</td>\n      <td>1</td>\n    </tr>\n    <tr>\n      <th>6263</th>\n      <td>dagre-d3</td>\n      <td>1</td>\n    </tr>\n    <tr>\n      <th>6264</th>\n      <td>create-guten-block</td>\n      <td>1</td>\n    </tr>\n  </tbody>\n</table>\n<p>6265 rows × 2 columns</p>\n</div>"
     },
     "metadata": {},
     "execution_count": 9
    }
   ],
   "source": [
    "dfname = df['name']\n",
    "#len(dfname.unique())\n",
    "#dfname.describe()\n",
    "dfnamestats = df['name'].value_counts().rename_axis('unique_values').reset_index(name='counts')\n",
    "dfnamestats"
   ]
  },
  {
   "cell_type": "code",
   "execution_count": 10,
   "metadata": {},
   "outputs": [],
   "source": [
    "import requests\n",
    "\n",
    "# contains: either error OR: author, versions, keywords, description, name\n",
    "def get_lib_info_npm(libname):\n",
    "    res = requests.get('https://registry.npmjs.org/{}'.format(libname))\n",
    "    return res.json()\n",
    "\n",
    "# libinfo = get_lib_info_npm('mocha')"
   ]
  },
  {
   "cell_type": "code",
   "execution_count": 11,
   "metadata": {
    "tags": []
   },
   "outputs": [],
   "source": [
    "# dfnamestats['libinfo'] = dfnamestats['unique_values'].apply(get_lib_info_npm)\n",
    "# dfnamestats\n",
    "\n",
    "storage_file = '/home/gjungwirth/data/02_data/03_analyses/library_versions/node_data_pickle.bak'\n",
    "#dfnamestats.to_pickle(storage_file)\n",
    "\n",
    "df2 = pd.read_pickle(storage_file)\n",
    "#df2.equals(dfnamestats)\n",
    "dfnamestats = df2"
   ]
  },
  {
   "cell_type": "code",
   "execution_count": 12,
   "metadata": {},
   "outputs": [],
   "source": [
    "dfnamestats['private_lib'] = dfnamestats['libinfo'].apply(lambda a: 'error' in a.keys())\n",
    "\n",
    "tmp = dfnamestats[dfnamestats['private_lib'] == True]\n",
    "\n",
    "#print(\"\\n\".join(tmp['unique_values']))"
   ]
  },
  {
   "source": [
    "## part 2 - check which kind of version fixation we have"
   ],
   "cell_type": "markdown",
   "metadata": {}
  },
  {
   "cell_type": "code",
   "execution_count": 13,
   "metadata": {},
   "outputs": [
    {
     "output_type": "error",
     "ename": "SyntaxError",
     "evalue": "invalid syntax (<ipython-input-13-51bc6fbaa907>, line 1)",
     "traceback": [
      "\u001b[0;36m  File \u001b[0;32m\"<ipython-input-13-51bc6fbaa907>\"\u001b[0;36m, line \u001b[0;32m1\u001b[0m\n\u001b[0;31m    import redf[df.unique_libs.notnull()].unique_libs.values\u001b[0m\n\u001b[0m               ^\u001b[0m\n\u001b[0;31mSyntaxError\u001b[0m\u001b[0;31m:\u001b[0m invalid syntax\n"
     ]
    }
   ],
   "source": [
    "import redf[df.unique_libs.notnull()].unique_libs.values\n",
    "total = len(df.index)\n",
    "version_stat = pd.DataFrame(df['version'].apply(lambda x: re.sub('[0-9x.]*$','',str(x))).value_counts().reset_index(name='counts'))\n",
    "version_stat['percent'] = version_stat['counts'] * 100 / total\n",
    "version_stat"
   ]
  },
  {
   "source": [
    "## probably do the difference thing here too"
   ],
   "cell_type": "markdown",
   "metadata": {}
  },
  {
   "cell_type": "code",
   "execution_count": 15,
   "metadata": {},
   "outputs": [],
   "source": [
    "from Levenshtein import distance\n",
    "from itertools import product\n",
    "import numpy as np\n",
    "\n",
    "lib_names = list(dfnamestats['unique_values'].values)\n",
    "dist = [distance(*x) for x in product(lib_names, repeat=2)]"
   ]
  },
  {
   "cell_type": "code",
   "execution_count": 16,
   "metadata": {},
   "outputs": [],
   "source": [
    "dist_df = pd.DataFrame(np.array(dist).reshape(len(lib_names), len(lib_names)), index=lib_names, columns=lib_names)\n",
    "dist_df['closest_neighbor'] = dist_df.applymap(lambda x: None if x==0 else x).idxmin(axis=\"columns\")"
   ]
  },
  {
   "cell_type": "code",
   "execution_count": 17,
   "metadata": {},
   "outputs": [
    {
     "output_type": "execute_result",
     "data": {
      "text/plain": [
       "                                   closest_neighbor  dist_of_neighbor\n",
       "mocha                                        matcha                 2\n",
       "eslint                                       tslint                 1\n",
       "tap                                            tape                 1\n",
       "tape                                            tap                 1\n",
       "istanbul                                     stable                 4\n",
       "...                                             ...               ...\n",
       "csscomb-next                           csscomb-core                 4\n",
       "@types/tinycolor2                     @types/colors                 5\n",
       "esformatter-semicolon-first  esformatter-semicolons                 5\n",
       "@rails/activestorage             @rails/actioncable                 8\n",
       "branch-name                               benchmark                 6\n",
       "\n",
       "[6265 rows x 2 columns]"
      ],
      "text/html": "<div>\n<style scoped>\n    .dataframe tbody tr th:only-of-type {\n        vertical-align: middle;\n    }\n\n    .dataframe tbody tr th {\n        vertical-align: top;\n    }\n\n    .dataframe thead th {\n        text-align: right;\n    }\n</style>\n<table border=\"1\" class=\"dataframe\">\n  <thead>\n    <tr style=\"text-align: right;\">\n      <th></th>\n      <th>closest_neighbor</th>\n      <th>dist_of_neighbor</th>\n    </tr>\n  </thead>\n  <tbody>\n    <tr>\n      <th>mocha</th>\n      <td>matcha</td>\n      <td>2</td>\n    </tr>\n    <tr>\n      <th>eslint</th>\n      <td>tslint</td>\n      <td>1</td>\n    </tr>\n    <tr>\n      <th>tap</th>\n      <td>tape</td>\n      <td>1</td>\n    </tr>\n    <tr>\n      <th>tape</th>\n      <td>tap</td>\n      <td>1</td>\n    </tr>\n    <tr>\n      <th>istanbul</th>\n      <td>stable</td>\n      <td>4</td>\n    </tr>\n    <tr>\n      <th>...</th>\n      <td>...</td>\n      <td>...</td>\n    </tr>\n    <tr>\n      <th>csscomb-next</th>\n      <td>csscomb-core</td>\n      <td>4</td>\n    </tr>\n    <tr>\n      <th>@types/tinycolor2</th>\n      <td>@types/colors</td>\n      <td>5</td>\n    </tr>\n    <tr>\n      <th>esformatter-semicolon-first</th>\n      <td>esformatter-semicolons</td>\n      <td>5</td>\n    </tr>\n    <tr>\n      <th>@rails/activestorage</th>\n      <td>@rails/actioncable</td>\n      <td>8</td>\n    </tr>\n    <tr>\n      <th>branch-name</th>\n      <td>benchmark</td>\n      <td>6</td>\n    </tr>\n  </tbody>\n</table>\n<p>6265 rows × 2 columns</p>\n</div>"
     },
     "metadata": {},
     "execution_count": 17
    }
   ],
   "source": [
    "dist_df['dist_of_neighbor'] = dist_df.apply(lambda x: x[x['closest_neighbor']],axis=1)\n",
    "dist_df[['closest_neighbor','dist_of_neighbor']]"
   ]
  },
  {
   "cell_type": "code",
   "execution_count": 18,
   "metadata": {},
   "outputs": [],
   "source": [
    "libs_w_distances = dfnamestats.set_index('unique_values').join(dist_df[['closest_neighbor','dist_of_neighbor']])"
   ]
  },
  {
   "cell_type": "code",
   "execution_count": 19,
   "metadata": {},
   "outputs": [],
   "source": [
    "tmp = libs_w_distances[libs_w_distances['private_lib'] == True].sort_values(by='dist_of_neighbor')"
   ]
  },
  {
   "source": [
    "# Links\n",
    "\n",
    "https://github.com/npm/registry/blob/master/docs/REGISTRY-API.md\n",
    "https://registry.npmjs.org/mocha\n"
   ],
   "cell_type": "markdown",
   "metadata": {}
  }
 ]
}