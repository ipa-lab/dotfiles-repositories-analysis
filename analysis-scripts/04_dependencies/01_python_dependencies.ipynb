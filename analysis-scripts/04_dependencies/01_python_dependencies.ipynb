{
 "metadata": {
  "orig_nbformat": 2,
  "kernelspec": {
   "name": "python3",
   "display_name": "Python 3.9.1 64-bit ('.venv')"
  }
 },
 "nbformat": 4,
 "nbformat_minor": 2,
 "cells": [
  {
   "cell_type": "code",
   "execution_count": 1,
   "metadata": {},
   "outputs": [],
   "source": [
    "# %pip install requirements-parser\n",
    "# %pip install Levenshtein"
   ]
  },
  {
   "cell_type": "code",
   "execution_count": 2,
   "metadata": {},
   "outputs": [],
   "source": [
    "import os\n",
    "os.getcwd()\n",
    "os.chdir('/home/gjungwirth/data/02_data/')"
   ]
  },
  {
   "cell_type": "code",
   "execution_count": 3,
   "metadata": {},
   "outputs": [
    {
     "output_type": "execute_result",
     "data": {
      "text/plain": [
       "['repos/blackrobot_dotfiles/lib/python/requirements.txt']"
      ]
     },
     "metadata": {},
     "execution_count": 3
    }
   ],
   "source": [
    "import requirements\n",
    "args = {}\n",
    "args['input'] = '/home/gjungwirth/data/02_data/03_analyses/library_versions/requirements-files'\n",
    "args['storage_file'] = '/home/gjungwirth/data/02_data/03_analyses/library_versions/python_data.bak'\n",
    "req_files = []\n",
    "with open(args['input']) as f:\n",
    "    req_files = [line.rstrip() for line in f]\n",
    "req_files[0:1]"
   ]
  },
  {
   "cell_type": "code",
   "execution_count": 4,
   "metadata": {},
   "outputs": [
    {
     "output_type": "stream",
     "name": "stderr",
     "text": [
      "/home/gjungwirth/data/02_data/.venv/lib/python3.9/site-packages/requirements/parser.py:44: UserWarning: Private repos not supported. Skipping.\n  warnings.warn('Private repos not supported. Skipping.')\n"
     ]
    }
   ],
   "source": [
    "all_versions = {}\n",
    "for reqfile in req_files: #[0:20]:\n",
    "    try:\n",
    "        with open(reqfile) as f:\n",
    "            for req in requirements.parse(f):\n",
    "                #print(req)\n",
    "                #print(req.name, req.specs, req.extras)\n",
    "                if req.name not in all_versions:\n",
    "                    all_versions[req.name] = [req.specs]\n",
    "                else:\n",
    "                    all_versions[req.name].append(req.specs)\n",
    "    except:\n",
    "        pass"
   ]
  },
  {
   "cell_type": "code",
   "execution_count": 5,
   "metadata": {
    "tags": []
   },
   "outputs": [
    {
     "output_type": "stream",
     "name": "stdout",
     "text": [
      "Total unique deps: 3028\nflake8 (255) [[('>=', '3.0')], [('==', '3.7.6')], [('==', '2.5.1')], [('==', '3.7.9')], [('==', '3.7.8')]]\nrequests (248) [[('>=', '2.9')], [('>=', '2.9')], [('==', '2.21.0')], [('==', '2.24.0')], [('==', '2.12.4')]]\nsix (185) [[('==', '1.10.0')], [('==', '1.15.0')], [('==', '1.13.0')], [('==', '1.12.0')], [('==', '1.10.0')]]\nipython (165) [[('<', '6')], [('==', '5.1.0')], [('==', '4.0.1')], [('==', '7.7.0')], [('==', '7.8.0')]]\nvirtualenv (150) [[('==', '1.11.4')], [('==', '20.0.26')], [('==', '15.1.0')], [('==', '1.11.6')], [('==', '16.1.0')]]\njedi (150) [[('==', '0.15.2')], [('==', '0.14.1')], [('==', '0.8.1-final0')], [('==', '0.13.1')], [('==', '0.9.0')]]\nnumpy (140) [[('==', '1.18.5')], [('==', '1.17.1')], [('==', '1.8.2')], [('==', '1.15.4')], [('==', '1.12.1')]]\npylint (139) [[('==', '2.4.4')], [('==', '2.6.0')], [('==', '2.5.3')], [('==', '1.9.1')], [('==', '1.5.4')]]\npytest (131) [[('==', '3.2.3')], [('==', '5.3.2')], [('==', '2.3.4')], [('==', '2.3.4')], [('==', '2.3.4')]]\npynvim (114) [[('==', '0.4.0')], [('==', '0.4.2')], [('>=', '0.3.1')], [('==', '0.4.1')], [('==', '0.3.1')]]\nisort (111) [[('==', '4.3.21')], [('==', '4.3.21')], [('==', '4.3.21')], [('==', '4.3.21')], [('==', '5.5.1')]]\nPyYAML (111) [[('==', '5.3.1')], [('==', '3.11')], [('==', '3.11')], [('==', '5.2')], [('==', '3.12')]]\npandas (103) [[('==', '0.14.1')], [('==', '0.23.4')], [('==', '0.25.1')], [('==', '0.20.3')], [('==', '0.24.1')]]\npyflakes (102) [[('==', '2.1.0')], [('==', '2.1.1')], [('==', '2.1.1')], [('==', '1.5.0')], [('==', '2.0.0')]]\nneovim (98) [[('==', '0.3.1')], [('==', '0.1.13')], [('==', '0.1.13')], [('==', '0.2.0')], [('==', '0.3.1')]]\nmatplotlib (97) [[('==', '1.4.0')], [('<', '3')], [('==', '2.0.2')], [('==', '3.3.0')], [('==', '3.1.1')]]\nPygments (96) [[('>=', '2.1')], [('==', '2.1.3')], [('==', '2.6.1')], [('==', '2.4.2')], [('==', '2.0.2')]]\nchardet (95) [[('==', '3.0.4')], [('==', '3.0.4')], [('==', '3.0.4')], [('==', '3.0.4')], [('==', '3.0.4')]]\nJinja2 (95) [[('==', '2.11.2')], [('==', '2.9.6')], [('==', '2.8')], [('==', '2.7.3')], [('==', '2.9.6')]]\nmccabe (93) [[('==', '0.6.1')], [('==', '0.6.1')], [('==', '0.6.1')], [('==', '0.6.1')], [('==', '0.6.1')]]\npython-dateutil (93) [[('==', '2.6.0')], [('==', '2.7.5')], [('==', '2.6.0')], [('==', '2.8.1')], [('==', '2.8.0')]]\nurllib3 (93) [[('==', '1.25.9')], [('==', '1.25.10')], [('==', '1.25.6')], [('==', '1.25.3')], [('==', '1.25.9')]]\nidna (92) [[('==', '2.1')], [('==', '2.10')], [('==', '2.10')], [('==', '2.8')], [('==', '2.8')]]\ncertifi (90) [[('==', '2020.6.20')], [('==', '2020.6.20')], [('==', '2019.9.11')], [('==', '2019.9.11')], [('==', '2020.6.20')]]\nansible (89) [[('==', '2.9.10')], [('==', '2.8.5')], [('==', '2.3.0.0')], [('==', '2.10.0')], [('==', '2.10.0')]]\nautopep8 (89) [[('==', '1.4.4')], [('==', '1.2.4')], [('==', '1.4.4')], [('==', '1.4.3')], [('==', '1.5.4')]]\nNone (89) []\nclick (87) [[('==', '7.0')], [('==', '6.7')], [('==', '7.1.2')], [('==', '7.0')], [('==', '7.1.2')]]\nMarkupSafe (84) [[('==', '1.1.1')], [('==', '0.23')], [('==', '0.23')], [('==', '1.1.1')], [('==', '1.0')]]\nparso (83) [[('==', '0.5.2')], [('==', '0.5.1')], [('==', '0.3.1')], [('==', '0.5.1')], [('==', '0.5.2')]]\nvirtualenvwrapper (81) [[('==', '4.2')], [('==', '4.7.2')], [('==', '4.8.4')], [('==', '4.3.1')], [('==', '4.5.0')]]\npycodestyle (80) [[('==', '2.5.0')], [('==', '2.5.0')], [('==', '2.5.0')], [('==', '2.4.0')], [('==', '2.4.0')]]\nblack (78) [[('==', '19.10b0')], [('==', '19.10b0')], [('==', '19.10b0')], [('==', '19.10b0')], [('==', '19.10b0')]]\npsutil (78) [[('==', '5.0.0')], [('==', '3.2.1')], [('==', '5.7.0')], [('==', '5.0.1')], [('==', '5.6.7')]]\nscipy (78) [[('==', '1.4.1')], [('==', '0.14.0')], [('==', '1.3.1')], [('==', '0.18.1')], [('>=', '0.13.0b1')]]\npytz (75) [[('==', '2015.6')], [('==', '2018.7')], [('==', '2017.2')], [('==', '2012h')], [('==', '2019.2')]]\nyapf (74) [[('==', '0.26.0')], [('==', '0.29.0')], [('==', '0.28.0')], [('==', '0.28.0')], [('==', '0.25.0')]]\nmypy (73) [[('==', '0.720')], [('==', '0.782')], [('==', '0.660')], [('==', '0.782')], [('==', '0.710')]]\nwheel (72) [[('==', '0.33.6')], [('==', '0.24.0')], [('>=', '0.22')], [('==', '0.24.0')], [('==', '0.24.0')]]\njupyter (70) [[('==', '1.0.0')], [('==', '1.0.0')], [('==', '1.0.0')], [('==', '1.0.0')], [('==', '1.0.0')]]\nmock (68) [[('>=', '1.3.0'), ('<', '2')], [('==', '1.0.1')], [('>=', '1.3.0'), ('<', '2')], [('==', '1.0.1')], [('==', '2.0.0')]]\npython-language-server (68) [[('==', '0.31.4')], [('==', '0.28.2')], [('==', '0.21.3')], [('==', '0.31.10')], [('==', '0.34.1')]]\npyparsing (67) [[('==', '2.4.6')], [('==', '2.1.10')], [('==', '2.3.0')], [('==', '2.0.3')], [('==', '2.2.0')]]\ncffi (66) [[('==', '1.9.1')], [('==', '1.14.0')], [('==', '1.12.3')], [('==', '1.14.0')], [('==', '1.13.2')]]\npycparser (65) [[('==', '2.17')], [('==', '2.20')], [('==', '2.19')], [('==', '2.19')], [('==', '2.19')]]\ntornado (63) [[('==', '5.1.1')], [('==', '6.0.3')], [('==', '4.5.2')], [('==', '4.4.1')], [('<', '6')]]\ncryptography (63) [[('==', '1.5.3')], [('==', '2.9.2')], [('==', '2.8')], [('==', '2.8')], [('==', '1.5')]]\ndecorator (59) [[('==', '4.0.10')], [('==', '4.4.0')], [('==', '4.3.0')], [('==', '4.4.0')], [('==', '4.4.1')]]\npexpect (59) [[('==', '4.2.1')], [('==', '4.7.0')], [('==', '4.6.0')], [('==', '4.7.0')], [('==', '4.7.0')]]\npyasn1 (59) [[('==', '0.1.9')], [('==', '0.4.8')], [('==', '0.4.7')], [('==', '0.4.8')], [('==', '0.2.3')]]\n"
     ]
    }
   ],
   "source": [
    "print(\"Total unique deps:\", len(all_versions.keys()))\n",
    "\n",
    "sorted_versions = sorted(all_versions, key=lambda k: len(all_versions[k]), reverse=True)\n",
    "for top in sorted_versions[0:50]:\n",
    "    v = [v for v in all_versions[top] if len(v) > 0]\n",
    "    print(top, \"({})\".format(len(all_versions[top])), v[0:5])"
   ]
  },
  {
   "source": [
    "## Analysis with pd DataFrame\n",
    "\n"
   ],
   "cell_type": "markdown",
   "metadata": {}
  },
  {
   "cell_type": "code",
   "execution_count": 6,
   "metadata": {},
   "outputs": [
    {
     "output_type": "execute_result",
     "data": {
      "text/plain": [
       "                unique_libs                                 version_specifiers\n",
       "0                     click  [[], [], [(==, 7.0)], [(==, 6.7)], [(==, 7.1.2...\n",
       "1                    awscli  [[], [], [(>=, 1.7)], [], [(==, 1.18.126)], [(...\n",
       "2                   ipython  [[], [], [], [], [(<, 6)], [], [], [(==, 5.1.0...\n",
       "3                 json2yaml                                               [[]]\n",
       "4                postmarker                                               [[]]\n",
       "...                     ...                                                ...\n",
       "3023                    usb                                               [[]]\n",
       "3024          google-crc32c                                    [[(==, 1.0.0)]]\n",
       "3025  korean-lunar-calendar                                    [[(==, 0.2.1)]]\n",
       "3026             proto-plus                                   [[(==, 1.13.0)]]\n",
       "3027                PyMeeus                                    [[(==, 0.3.7)]]\n",
       "\n",
       "[3028 rows x 2 columns]"
      ],
      "text/html": "<div>\n<style scoped>\n    .dataframe tbody tr th:only-of-type {\n        vertical-align: middle;\n    }\n\n    .dataframe tbody tr th {\n        vertical-align: top;\n    }\n\n    .dataframe thead th {\n        text-align: right;\n    }\n</style>\n<table border=\"1\" class=\"dataframe\">\n  <thead>\n    <tr style=\"text-align: right;\">\n      <th></th>\n      <th>unique_libs</th>\n      <th>version_specifiers</th>\n    </tr>\n  </thead>\n  <tbody>\n    <tr>\n      <th>0</th>\n      <td>click</td>\n      <td>[[], [], [(==, 7.0)], [(==, 6.7)], [(==, 7.1.2...</td>\n    </tr>\n    <tr>\n      <th>1</th>\n      <td>awscli</td>\n      <td>[[], [], [(&gt;=, 1.7)], [], [(==, 1.18.126)], [(...</td>\n    </tr>\n    <tr>\n      <th>2</th>\n      <td>ipython</td>\n      <td>[[], [], [], [], [(&lt;, 6)], [], [], [(==, 5.1.0...</td>\n    </tr>\n    <tr>\n      <th>3</th>\n      <td>json2yaml</td>\n      <td>[[]]</td>\n    </tr>\n    <tr>\n      <th>4</th>\n      <td>postmarker</td>\n      <td>[[]]</td>\n    </tr>\n    <tr>\n      <th>...</th>\n      <td>...</td>\n      <td>...</td>\n    </tr>\n    <tr>\n      <th>3023</th>\n      <td>usb</td>\n      <td>[[]]</td>\n    </tr>\n    <tr>\n      <th>3024</th>\n      <td>google-crc32c</td>\n      <td>[[(==, 1.0.0)]]</td>\n    </tr>\n    <tr>\n      <th>3025</th>\n      <td>korean-lunar-calendar</td>\n      <td>[[(==, 0.2.1)]]</td>\n    </tr>\n    <tr>\n      <th>3026</th>\n      <td>proto-plus</td>\n      <td>[[(==, 1.13.0)]]</td>\n    </tr>\n    <tr>\n      <th>3027</th>\n      <td>PyMeeus</td>\n      <td>[[(==, 0.3.7)]]</td>\n    </tr>\n  </tbody>\n</table>\n<p>3028 rows × 2 columns</p>\n</div>"
     },
     "metadata": {},
     "execution_count": 6
    }
   ],
   "source": [
    "import pandas as pd\n",
    "\n",
    "#pd.DataFrame.from_dict(all_versions, orient='index',columns=['foo','bar'])\n",
    "df = pd.DataFrame(all_versions.items(), columns=['unique_libs','version_specifiers'])\n",
    "\n",
    "df"
   ]
  },
  {
   "cell_type": "code",
   "execution_count": 7,
   "metadata": {},
   "outputs": [],
   "source": [
    "import requests\n",
    "\n",
    "# contains: either error OR: author, versions, keywords, description, name\n",
    "def get_lib_info_pypi(libname):\n",
    "    res = requests.get('https://pypi.org/pypi/{}/json'.format(libname))\n",
    "    if res.status_code < 300:\n",
    "        res_json = res.json()\n",
    "        del res_json['urls']\n",
    "        res_json['releases'] = res_json['releases'].keys() # reduce amount of information a bit\n",
    "        return res_json\n",
    "    else:\n",
    "        return {'error': f'Status code: {res.status_code}'}\n",
    "\n",
    "#libinfo = get_lib_info_pypi('not_found_saldkfja')"
   ]
  },
  {
   "cell_type": "code",
   "execution_count": 8,
   "metadata": {},
   "outputs": [],
   "source": [
    "#df['libinfo'] = df['unique_libs'].apply(get_lib_info_pypi)\n",
    "\n",
    "def alter_libinfo(item):\n",
    "    if 'releases' in item:\n",
    "        item['releases'] = list(item['releases'])\n",
    "    return item\n",
    "#df['libinfo'].apply(alter_libinfo)\n",
    "#df.to_pickle(args['storage_file'])\n",
    "\n",
    "df2 = pd.read_pickle(args['storage_file'])\n",
    "df = df2\n",
    "#df2.equals(df)"
   ]
  },
  {
   "cell_type": "code",
   "execution_count": 9,
   "metadata": {},
   "outputs": [],
   "source": [
    "df['private_lib'] = df['libinfo'].apply(lambda a: 'error' in a.keys())\n",
    "\n",
    "tmp = df[df['private_lib'] == True]\n",
    "\n",
    "#print(\"\\n\".join(tmp['unique_libs']))"
   ]
  },
  {
   "source": [
    "## work on distances"
   ],
   "cell_type": "markdown",
   "metadata": {}
  },
  {
   "cell_type": "code",
   "execution_count": 10,
   "metadata": {},
   "outputs": [],
   "source": [
    "from Levenshtein import distance\n",
    "from itertools import product\n",
    "import numpy as np\n",
    "\n",
    "lib_names = list(df[df.unique_libs.notnull()].unique_libs.values)\n",
    "dist = [distance(*x) for x in product(lib_names, repeat=2)]"
   ]
  },
  {
   "cell_type": "code",
   "execution_count": 11,
   "metadata": {},
   "outputs": [],
   "source": [
    "dist_df = pd.DataFrame(np.array(dist).reshape(len(lib_names), len(lib_names)), index=lib_names, columns=lib_names)\n",
    "dist_df['closest_neighbor'] = dist_df.applymap(lambda x: None if x==0 else x).idxmin(axis=\"columns\")"
   ]
  },
  {
   "cell_type": "code",
   "execution_count": 12,
   "metadata": {},
   "outputs": [
    {
     "output_type": "execute_result",
     "data": {
      "text/plain": [
       "click                     1\n",
       "awscli                    3\n",
       "ipython                   1\n",
       "json2yaml                 4\n",
       "postmarker                4\n",
       "                         ..\n",
       "usb                       2\n",
       "google-crc32c             6\n",
       "korean-lunar-calendar    13\n",
       "proto-plus                4\n",
       "PyMeeus                   4\n",
       "Name: dist_of_neighbor, Length: 3027, dtype: int64"
      ]
     },
     "metadata": {},
     "execution_count": 12
    }
   ],
   "source": [
    "dist_df['dist_of_neighbor'] = dist_df.apply(lambda x: x[x['closest_neighbor']],axis=1)\n",
    "dist_df['dist_of_neighbor']"
   ]
  },
  {
   "cell_type": "code",
   "execution_count": 13,
   "metadata": {},
   "outputs": [],
   "source": [
    "libs_w_distances = df.set_index('unique_libs').join(dist_df[['closest_neighbor','dist_of_neighbor']])"
   ]
  },
  {
   "cell_type": "code",
   "execution_count": 14,
   "metadata": {},
   "outputs": [],
   "source": [
    "tmp = libs_w_distances[libs_w_distances['private_lib'] == True].sort_values(by='dist_of_neighbor')"
   ]
  },
  {
   "source": [
    "## Links\n",
    "\n",
    "https://stackoverflow.com/questions/29919306/find-the-column-name-which-has-the-maximum-value-for-each-row\n",
    "https://pandas.pydata.org/pandas-docs/stable/user_guide/basics.html#\n",
    "\n",
    "https://stackoverflow.com/questions/49737760/is-there-a-slower-or-more-controlled-alternative-to-apply\n",
    "\n",
    "https://stackoverflow.com/questions/16476924/how-to-iterate-over-rows-in-a-dataframe-in-pandas\n",
    "\n",
    "\n",
    "https://stackoverflow.com/questions/38309729/count-unique-values-with-pandas-per-groups\n",
    "\n",
    "https://pandas.pydata.org/docs/user_guide/merging.html  \n",
    "note: all documentation on this page (official) is very good\n",
    "\n",
    "https://stackoverflow.com/questions/47152344/how-to-calculate-levenshtein-ratio-distance-for-rows-in-my-column-in-python\n",
    "\n"
   ],
   "cell_type": "markdown",
   "metadata": {}
  }
 ]
}