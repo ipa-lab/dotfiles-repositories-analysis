{
 "metadata": {
  "language_info": {
   "codemirror_mode": {
    "name": "ipython",
    "version": 3
   },
   "file_extension": ".py",
   "mimetype": "text/x-python",
   "name": "python",
   "nbconvert_exporter": "python",
   "pygments_lexer": "ipython3",
   "version": "3.9.1-final"
  },
  "orig_nbformat": 2,
  "kernelspec": {
   "name": "python391jvsc74a57bd09c25538c2a9117fbfde3642af8e9cf21789c5815496a0e906a9d26f99a6b6666",
   "display_name": "Python 3.9.1 64-bit ('.venv')"
  }
 },
 "nbformat": 4,
 "nbformat_minor": 2,
 "cells": [
  {
   "cell_type": "code",
   "execution_count": 5,
   "metadata": {},
   "outputs": [],
   "source": [
    "import os, sys, re\n",
    "import sqlite3, csv\n",
    "import argparse\n",
    "from tqdm.notebook import tqdm\n",
    "import json\n",
    "# %pip install ipywidgets"
   ]
  },
  {
   "cell_type": "code",
   "execution_count": 6,
   "metadata": {},
   "outputs": [],
   "source": [
    "args = {\n",
    "    \"source_folders\": [\"/home/gjungwirth/data/02_data/03_analyses/gitleaks_output\",\n",
    "        \"/home/gjungwirth/data/02_data/analyses_part2/gitleaks_output\"],\n",
    "    \"db\": \"/home/gjungwirth/data/02_data/results.db\"\n",
    "}"
   ]
  },
  {
   "cell_type": "code",
   "execution_count": 49,
   "metadata": {},
   "outputs": [],
   "source": [
    "db = sqlite3.connect(args['db'])\n",
    "\n",
    "db.execute('''\n",
    "CREATE TABLE IF NOT EXISTS secret (\n",
    "    secret_id INTEGER PRIMARY KEY,\n",
    "    file_id INTEGER NOT NULL,\n",
    "    line TEXT NOT NULL,\n",
    "    rule TEXT NOT NULL,\n",
    "    commit_id TEXT NOT NULL,\n",
    "    author TEXT NOT NULL,\n",
    "    author_email TEXT NOT NULL,\n",
    "    commit_date TEXT NOT NULL,\n",
    "    tags TEXT NOT NULL,\n",
    "    FOREIGN KEY (file_id) REFERENCES file (file_id),\n",
    "    UNIQUE (file_id, line, rule, commit_id)\n",
    ");\n",
    "''')\n",
    "db.commit()"
   ]
  },
  {
   "cell_type": "code",
   "execution_count": 20,
   "metadata": {
    "tags": []
   },
   "outputs": [],
   "source": [
    "src_files = []\n",
    "for folder in args['source_folders']:\n",
    "    for root, dirs, filenames in os.walk(folder):\n",
    "        for filename in filenames:\n",
    "            repo_folder_name = filename.removesuffix('.json')\n",
    "            src_files.append([repo_folder_name, os.path.join(root,filename)])\n",
    "\n",
    "#src_files"
   ]
  },
  {
   "cell_type": "code",
   "execution_count": 34,
   "metadata": {
    "tags": []
   },
   "outputs": [
    {
     "output_type": "stream",
     "name": "stdout",
     "text": [
      "Empty: 0/111 = 0%\n"
     ]
    }
   ],
   "source": [
    "# only a test to find historic files\n",
    "\n",
    "num_total = 0\n",
    "num_empty = 0\n",
    "\n",
    "for repo_folder, output_file in src_files[10:30]:\n",
    "    with open(output_file) as f:\n",
    "        data = json.load(f)\n",
    "        for leak in data:\n",
    "            # print(leak['file'],repo_folder)\n",
    "            cur = db.execute('''\n",
    "                SELECT f.file_id\n",
    "                FROM file f JOIN repo r ON f.repo_id=r.repo_id\n",
    "                WHERE\n",
    "                f.file_path = ? AND\n",
    "                r.folder_name = ?\n",
    "                ''', \n",
    "                (leak['file'], repo_folder)\n",
    "                )\n",
    "            if not cur.fetchall():\n",
    "                num_empty+=1\n",
    "            num_total+=1\n",
    "\n",
    "print(\"Empty: {}/{} = {}%\".format(num_empty, num_total, int(num_empty*100/num_total)))"
   ]
  },
  {
   "cell_type": "code",
   "execution_count": 50,
   "metadata": {},
   "outputs": [
    {
     "output_type": "display_data",
     "data": {
      "text/plain": "HBox(children=(HTML(value=''), FloatProgress(value=0.0, max=11758.0), HTML(value='')))",
      "application/vnd.jupyter.widget-view+json": {
       "version_major": 2,
       "version_minor": 0,
       "model_id": "213ed8bd404b446f8c567dd1ad6f8eb4"
      }
     },
     "metadata": {}
    },
    {
     "output_type": "stream",
     "name": "stdout",
     "text": [
      "\n\n"
     ]
    }
   ],
   "source": [
    "pbar = tqdm(total=len(src_files))\n",
    "res = []\n",
    "for repo_folder, output_file in src_files:\n",
    "    with open(output_file) as f:\n",
    "        data = json.load(f)\n",
    "        for leak in data:\n",
    "            # assert( leak['repo'] == repo_folder )\n",
    "            file_name = re.search(r'([^/]*)$', leak['file']).group(1)\n",
    "            line_cropped = leak['line'][:200] + (leak['line'][200:] and '...')\n",
    "            db.execute('''\n",
    "                INSERT OR IGNORE INTO file\n",
    "                (repo_id, file_name, file_path, is_deleted, size, sha, mime, no_lines)\n",
    "                VALUES\n",
    "                (\n",
    "                    (SELECT repo_id FROM repo WHERE folder_name = ?),\n",
    "                    ?, ?,\n",
    "                    TRUE,\n",
    "                    -1, \"\", \"\", -1\n",
    "                );\n",
    "                ''',\n",
    "                (leak['repo'], file_name, leak['file'])\n",
    "                )\n",
    "            db.commit()\n",
    "            db.execute('''\n",
    "                INSERT OR IGNORE INTO secret\n",
    "                (file_id, line, rule, commit_id, author, author_email, commit_date, tags)\n",
    "                VALUES\n",
    "                (\n",
    "                    (SELECT file_id FROM file f JOIN repo r ON f.repo_id=r.repo_id WHERE r.folder_name = ? AND f.file_path = ?),\n",
    "                    ?,\n",
    "                    ?,\n",
    "                    ?,\n",
    "                    ?,\n",
    "                    ?,\n",
    "                    ?,\n",
    "                    ?\n",
    "                );''',\n",
    "                (\n",
    "                    leak['repo'], leak['file'],\n",
    "                    line_cropped,\n",
    "                    leak['rule'],\n",
    "                    leak['commit'],\n",
    "                    leak['author'],\n",
    "                    leak['email'],\n",
    "                    leak['date'],\n",
    "                    leak['tags']\n",
    "                ))\n",
    "            db.commit()\n",
    "    pbar.update()\n",
    "\n"
   ]
  },
  {
   "cell_type": "code",
   "execution_count": 51,
   "metadata": {},
   "outputs": [],
   "source": [
    "db.close()"
   ]
  }
 ]
}