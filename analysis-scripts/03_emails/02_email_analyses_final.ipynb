{
 "cells": [
  {
   "cell_type": "code",
   "execution_count": 1,
   "metadata": {},
   "outputs": [],
   "source": [
    "# boilerplate, initialization\n",
    "import os, sys, re\n",
    "import tqdm\n",
    "import csv\n",
    "import pandas as pd\n",
    "\n",
    "args = {\n",
    "        'input': '/home/gjungwirth/data/02_data/03_analyses/gitleaks_02_own_regexes/analyses/all_emails_compressed.csv',\n",
    "        'output': '/home/gjungwirth/data/02_data/03_analyses/gitleaks_02_own_regexes/analyses/emails_tfidf.csv'\n",
    "    }\n",
    "\n",
    "data = pd.read_csv(args['input'], header=None,\n",
    "    names=['count_per_file', 'email', 'file_path', 'repo_folder'],\n",
    "    #keep_default_na=False\n",
    "    ).dropna()"
   ]
  },
  {
   "cell_type": "code",
   "execution_count": null,
   "metadata": {},
   "outputs": [],
   "source": [
    "data.head()"
   ]
  },
  {
   "cell_type": "code",
   "execution_count": 3,
   "metadata": {},
   "outputs": [],
   "source": [
    "# testdata = data.head(n=2000)\n",
    "data.drop(columns=['count_per_file', 'file_path'], inplace=True)\n",
    "data.columns = ['term', 'document']\n"
   ]
  },
  {
   "cell_type": "code",
   "execution_count": 4,
   "metadata": {},
   "outputs": [],
   "source": [
    "\n",
    "## now the tfidf manual\n",
    "\n",
    "\n",
    "def manual_tfidf(data):\n",
    "  term_to_freq = {}\n",
    "  document_to_freq = {}\n",
    "  for row in data.itertuples():\n",
    "    term_to_freq.setdefault(row.term, {}).setdefault(row.document, 0)\n",
    "    term_to_freq[row.term][row.document] += 1\n",
    "\n",
    "    document_to_freq.setdefault(row.document, {}).setdefault(row.term, 0)\n",
    "    document_to_freq[row.document][row.term] += 1\n",
    "\n",
    "  term_to_freq2 = {}\n",
    "  for item in term_to_freq.items():\n",
    "    term_to_freq2[item[0]] = len(item[1].keys())\n",
    "\n",
    "  # data['tfidf_test'] = data.eval('term_to_freq2[term] * document_to_freq[document][term]')\n",
    "  data['tfidf_test'] = [\n",
    "            document_to_freq[document][term] / term_to_freq2[term]\n",
    "            for term, document in zip(data.term, data.document)\n",
    "  ]\n",
    "  \n",
    "\n",
    "manual_tfidf(data)\n"
   ]
  },
  {
   "cell_type": "code",
   "execution_count": null,
   "metadata": {},
   "outputs": [],
   "source": [
    "#data.sort_values(by='tfidf_test', ascending=False).head()\n",
    "res = data.groupby(['term','document']).max()\n",
    "\n",
    "res[res['tfidf_test'] > 3].sort_values(by='tfidf_test',ascending=False).head(n=10)\n",
    "#res[res['tfidf_test'] > 3].shape()\n"
   ]
  },
  {
   "cell_type": "code",
   "execution_count": 6,
   "metadata": {},
   "outputs": [],
   "source": [
    "# here we finalize (clean) the data for output and write it to a csv\n",
    "# we choose all lines with a tfidf>3, which includes many emails but filters the most obvious low-rated uninteresting stuff\n",
    "\n",
    "# res[res['tfidf_test'] > 3].shape\n",
    "# res[res['tfidf_test'] > 3].head()\n",
    "for_output = res[res['tfidf_test'] > 3] \\\n",
    "    .reset_index() \\\n",
    "    .sort_values(by='tfidf_test',ascending=False) \\\n",
    "    .rename(\n",
    "        columns={\n",
    "            'term': 'email',\n",
    "            'document': 'repo',\n",
    "            'tfidf_test': 'tfidf'\n",
    "        }\n",
    "    )\n",
    "for_output['tfidf'] = for_output['tfidf'].apply(int)\n",
    "#for_output.head()\n",
    "for_output.to_csv(args['output'],index=False)"
   ]
  },
  {
   "cell_type": "markdown",
   "metadata": {},
   "source": [
    "## References\n",
    "\n",
    "* https://pandas.pydata.org/docs/getting_started/intro_tutorials/02_read_write.html - the best pandas introduction\n",
    "* http://www.ultravioletanalytics.com/blog/tf-idf-basics-with-pandas-scikit-learn - pandas and sklearn\n",
    "* https://code.visualstudio.com/docs/python/data-science-tutorial - everything with VSCode\n",
    "* https://sondosatwi.wordpress.com/2017/08/01/using-text-data-and-dataframemapper-in-python/ - DataFrameMapper for data preparation\n",
    "* "
   ]
  },
  {
   "cell_type": "markdown",
   "metadata": {},
   "source": [
    "OLD: this was an old attempt to use sklearn\n",
    "\n",
    "next steps:\n",
    "\n",
    "1. add a tf field and calculate it\n",
    "1. make another aggregation and calculate tf.idf?"
   ]
  },
  {
   "cell_type": "code",
   "execution_count": 7,
   "metadata": {},
   "outputs": [],
   "source": [
    "# from sklearn.feature_extraction.text import TfidfVectorizer\n",
    "# v = TfidfVectorizer()\n",
    "# x = v.fit_transform(data['email'])"
   ]
  }
 ],
 "metadata": {
  "kernelspec": {
   "display_name": "Python 3",
   "language": "python",
   "name": "python3"
  },
  "language_info": {
   "codemirror_mode": {
    "name": "ipython",
    "version": 3
   },
   "file_extension": ".py",
   "mimetype": "text/x-python",
   "name": "python",
   "nbconvert_exporter": "python",
   "pygments_lexer": "ipython3",
   "version": "3.9.1-final"
  },
  "orig_nbformat": 2
 },
 "nbformat": 4,
 "nbformat_minor": 2
}
