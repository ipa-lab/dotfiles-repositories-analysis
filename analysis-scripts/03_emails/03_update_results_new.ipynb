{
 "metadata": {
  "language_info": {
   "codemirror_mode": {
    "name": "ipython",
    "version": 3
   },
   "file_extension": ".py",
   "mimetype": "text/x-python",
   "name": "python",
   "nbconvert_exporter": "python",
   "pygments_lexer": "ipython3",
   "version": "3.9.1"
  },
  "orig_nbformat": 2,
  "kernelspec": {
   "name": "python391jvsc74a57bd09c25538c2a9117fbfde3642af8e9cf21789c5815496a0e906a9d26f99a6b6666",
   "display_name": "Python 3.9.1 64-bit ('.venv')"
  }
 },
 "nbformat": 4,
 "nbformat_minor": 2,
 "cells": [
  {
   "cell_type": "code",
   "execution_count": 1,
   "metadata": {},
   "outputs": [],
   "source": [
    "import os, sys, re\n",
    "import sqlite3, csv\n",
    "import argparse\n",
    "from tqdm.notebook import tqdm\n",
    "import json\n",
    "# %pip install ipywidgets"
   ]
  },
  {
   "cell_type": "code",
   "execution_count": 2,
   "metadata": {},
   "outputs": [],
   "source": [
    "args = {\n",
    "    \"source_folders\": [\"/home/gjungwirth/data/02_data/03_analyses/gitleaks_02_own_regexes/output\",\n",
    "        \"/home/gjungwirth/data/02_data/03_analyses/gitleaks_02_own_regexes/output2\"],\n",
    "    \"db\": \"/home/gjungwirth/data/02_data/results.db\"\n",
    "}"
   ]
  },
  {
   "cell_type": "code",
   "execution_count": 10,
   "metadata": {},
   "outputs": [],
   "source": [
    "db = sqlite3.connect(args['db'])\n",
    "\n",
    "db.execute('''\n",
    "CREATE TABLE IF NOT EXISTS email (\n",
    "    email_id INTEGER PRIMARY KEY,\n",
    "    email TEXT NOT NULL,\n",
    "    file_id INTEGER NOT NULL,\n",
    "    commit_id TEXT NOT NULL,\n",
    "    author TEXT NOT NULL,\n",
    "    author_email TEXT NOT NULL,\n",
    "    commit_date TEXT NOT NULL,\n",
    "    count_per_file INTEGER NOT NULL,\n",
    "    tfidf_per_repo INTEGER,\n",
    "    FOREIGN KEY (file_id) REFERENCES file (file_id),\n",
    "    UNIQUE (file_id, email)\n",
    ");\n",
    "''')\n",
    "db.commit()"
   ]
  },
  {
   "cell_type": "code",
   "execution_count": 3,
   "metadata": {},
   "outputs": [
    {
     "output_type": "execute_result",
     "data": {
      "text/plain": [
       "88442"
      ]
     },
     "metadata": {},
     "execution_count": 3
    }
   ],
   "source": [
    "src_files = []\n",
    "for folder in args['source_folders']:\n",
    "    for root, dirs, filenames in os.walk(folder):\n",
    "        for filename in filenames:\n",
    "            repo_folder_name = filename.removesuffix('.json')\n",
    "            src_files.append([repo_folder_name, os.path.join(root,filename)])\n",
    "\n",
    "len(src_files)"
   ]
  },
  {
   "cell_type": "code",
   "execution_count": 7,
   "metadata": {},
   "outputs": [
    {
     "output_type": "stream",
     "name": "stdout",
     "text": [
      "Empty: 13089/20554 = 63%\n"
     ]
    }
   ],
   "source": [
    "# only a test to find historic files\n",
    "\n",
    "num_total = 0\n",
    "num_empty = 0\n",
    "\n",
    "for repo_folder, output_file in src_files[310:350]:\n",
    "    with open(output_file) as f:\n",
    "        data = json.load(f)\n",
    "        for leak in data:\n",
    "            cur = db.execute('''\n",
    "                SELECT f.file_id\n",
    "                FROM file f JOIN repo r ON f.repo_id=r.repo_id\n",
    "                WHERE\n",
    "                f.file_path = ? AND\n",
    "                r.folder_name = ?\n",
    "                ''', \n",
    "                (leak['file'], repo_folder)\n",
    "                )\n",
    "            if not cur.fetchall():\n",
    "                num_empty+=1\n",
    "            num_total+=1\n",
    "\n",
    "print(\"Empty (meaning historic file): {}/{} = {}%\".format(num_empty, num_total, int(num_empty*100/num_total)))"
   ]
  },
  {
   "cell_type": "code",
   "execution_count": 16,
   "metadata": {},
   "outputs": [
    {
     "output_type": "display_data",
     "data": {
      "text/plain": "HBox(children=(HTML(value=''), FloatProgress(value=0.0, max=10.0), HTML(value='')))",
      "application/vnd.jupyter.widget-view+json": {
       "version_major": 2,
       "version_minor": 0,
       "model_id": "dae4e8532608413ba0733126c0835c07"
      }
     },
     "metadata": {}
    }
   ],
   "source": [
    "pbar = tqdm(total=len(src_files[50:60]))\n",
    "res = []\n",
    "for repo_folder, output_file in src_files[50:60]:\n",
    "    with open(output_file) as f:\n",
    "        data = json.load(f)\n",
    "        for leak in data:\n",
    "            assert( leak['repo'] == repo_folder )\n",
    "            file_name = re.search(r'([^/]*)$', leak['file']).group(1)\n",
    "            my_vars = {\n",
    "                    \"foldername\": leak['repo'],\n",
    "                    \"filename\": file_name,\n",
    "                    \"filepath\": leak['file'],\n",
    "                    \"offender\": leak['offender'],\n",
    "                    \"commit\": leak['commit'],\n",
    "                    \"author\": leak['author'],\n",
    "                    \"email\": leak['email'],\n",
    "                    \"mydate\": leak['date']\n",
    "                }\n",
    "            db.execute('''\n",
    "                INSERT OR IGNORE INTO file\n",
    "                (repo_id, file_name, file_path, is_deleted, size, sha, mime, no_lines)\n",
    "                VALUES\n",
    "                (\n",
    "                    (SELECT repo_id FROM repo WHERE folder_name = :foldername),\n",
    "                    :filename, :filepath,\n",
    "                    TRUE,\n",
    "                    -1, \"\", \"\", -1\n",
    "                );''', my_vars)\n",
    "            db.execute('''\n",
    "                INSERT OR IGNORE INTO email\n",
    "                (file_id,\n",
    "                email, commit_id, author, author_email, commit_date,\n",
    "                count_per_file)\n",
    "                VALUES\n",
    "                (\n",
    "                    (SELECT file_id FROM file f JOIN repo r ON f.repo_id=r.repo_id WHERE r.folder_name = :foldername AND f.file_path = :filepath),\n",
    "                    :offender, :commit, :author, :email, :mydate,\n",
    "                    0\n",
    "                );''', my_vars)\n",
    "            db.execute('''\n",
    "                UPDATE  email SET count_per_file = count_per_file +1 WHERE\n",
    "                file_id = (SELECT file_id FROM file f JOIN repo r ON f.repo_id=r.repo_id\n",
    "                    WHERE r.folder_name = :foldername AND f.file_path = :filepath) AND\n",
    "                    email = :offender;\n",
    "                ''', my_vars)\n",
    "            db.commit()\n",
    "    pbar.update()"
   ]
  },
  {
   "cell_type": "code",
   "execution_count": 17,
   "metadata": {},
   "outputs": [],
   "source": [
    "db.close()"
   ]
  }
 ]
}