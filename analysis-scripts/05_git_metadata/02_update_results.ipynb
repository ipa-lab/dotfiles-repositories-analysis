{
 "metadata": {
  "language_info": {
   "codemirror_mode": {
    "name": "ipython",
    "version": 3
   },
   "file_extension": ".py",
   "mimetype": "text/x-python",
   "name": "python",
   "nbconvert_exporter": "python",
   "pygments_lexer": "ipython3",
   "version": "3.9.1"
  },
  "orig_nbformat": 2,
  "kernelspec": {
   "name": "python391jvsc74a57bd09c25538c2a9117fbfde3642af8e9cf21789c5815496a0e906a9d26f99a6b6666",
   "display_name": "Python 3.9.1 64-bit ('.venv')"
  }
 },
 "nbformat": 4,
 "nbformat_minor": 2,
 "cells": [
  {
   "cell_type": "code",
   "execution_count": 1,
   "metadata": {},
   "outputs": [],
   "source": [
    "import os, sys, re\n",
    "import sqlite3, csv\n",
    "import argparse\n",
    "from tqdm.notebook import tqdm\n",
    "import json\n",
    "import pandas as pd\n",
    "# %pip install ipywidgets"
   ]
  },
  {
   "cell_type": "code",
   "execution_count": 3,
   "metadata": {},
   "outputs": [],
   "source": [
    "args = {\n",
    "    \"source_file\": \"/home/gjungwirth/data/02_data/03_analyses/statistics_for_paper/repostats.csv\",\n",
    "    \"db\": \"/home/gjungwirth/data/02_data/results.db\"\n",
    "}"
   ]
  },
  {
   "cell_type": "code",
   "execution_count": 5,
   "metadata": {},
   "outputs": [],
   "source": [
    "db = sqlite3.connect(args['db'])\n",
    "\n",
    "db.execute('''\n",
    "CREATE TABLE IF NOT EXISTS repo_stats (\n",
    "    repo_id INTEGER PRIMARY KEY,\n",
    "    first_commit_date TEXT NOT NULL,\n",
    "    last_commit_date TEXT NOT NULL,\n",
    "    no_commits INTEGER NOT NULL,\n",
    "    no_authors INTEGER NOT NULL,\n",
    "    FOREIGN KEY (repo_id) REFERENCES repo (repo_id)\n",
    ");\n",
    "''')\n",
    "db.commit()"
   ]
  },
  {
   "cell_type": "code",
   "execution_count": 14,
   "metadata": {},
   "outputs": [
    {
     "output_type": "stream",
     "name": "stdout",
     "text": [
      "<class 'pandas.core.frame.DataFrame'>\nRangeIndex: 124230 entries, 0 to 124229\nData columns (total 5 columns):\n #   Column        Non-Null Count   Dtype \n---  ------        --------------   ----- \n 0   folder        124230 non-null  object\n 1   first_commit  123870 non-null  object\n 2   last_commit   123870 non-null  object\n 3   no_commits    124230 non-null  int64 \n 4   no_authors    124230 non-null  int64 \ndtypes: int64(2), object(3)\nmemory usage: 4.7+ MB\n"
     ]
    },
    {
     "output_type": "execute_result",
     "data": {
      "text/plain": [
       "124230"
      ]
     },
     "metadata": {},
     "execution_count": 14
    }
   ],
   "source": [
    "df = pd.read_csv(args['source_file'],\n",
    "    names=['folder','first_commit','last_commit','no_commits','no_authors'])\n",
    "df.info()\n",
    "df.shape[0]"
   ]
  },
  {
   "cell_type": "code",
   "execution_count": 20,
   "metadata": {
    "tags": []
   },
   "outputs": [
    {
     "output_type": "display_data",
     "data": {
      "text/plain": "HBox(children=(HTML(value=''), FloatProgress(value=0.0, max=124230.0), HTML(value='')))",
      "application/vnd.jupyter.widget-view+json": {
       "version_major": 2,
       "version_minor": 0,
       "model_id": "6183d53105b0453ab386cceaf3499143"
      }
     },
     "metadata": {}
    }
   ],
   "source": [
    "pbar = tqdm(total=df.shape[0])\n",
    "for row in df.itertuples():\n",
    "    \n",
    "    raw_folder = str(row.folder).removeprefix(\"repos/\").removeprefix(\"repos_part2/\")\n",
    "    db.execute('''\n",
    "        INSERT OR IGNORE INTO repo_stats\n",
    "        (repo_id, first_commit_date, last_commit_date, no_commits, no_authors)\n",
    "        VALUES\n",
    "        ((SELECT repo_id FROM repo WHERE folder_name = :folder_name),\n",
    "        :first_commit, :last_commit, :no_commits, :no_authors);\n",
    "        ''', {\n",
    "            \"folder_name\": raw_folder,\n",
    "            \"first_commit\": row.first_commit,\n",
    "            \"last_commit\": row.last_commit,\n",
    "            \"no_commits\": row.no_commits,\n",
    "            \"no_authors\": row.no_authors\n",
    "        })\n",
    "    db.commit()\n",
    "    pbar.update()"
   ]
  },
  {
   "cell_type": "code",
   "execution_count": 17,
   "metadata": {},
   "outputs": [],
   "source": [
    "db.close()"
   ]
  }
 ]
}