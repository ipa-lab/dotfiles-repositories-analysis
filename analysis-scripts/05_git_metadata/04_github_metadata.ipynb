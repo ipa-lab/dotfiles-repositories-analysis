{
 "cells": [
  {
   "cell_type": "code",
   "execution_count": 14,
   "metadata": {},
   "outputs": [],
   "source": [
    "import tqdm\n",
    "import os\n",
    "import json\n",
    "import sqlite3\n",
    "from tqdm.notebook import tqdm\n"
   ]
  },
  {
   "cell_type": "code",
   "execution_count": 30,
   "metadata": {},
   "outputs": [
    {
     "name": "stdout",
     "output_type": "stream",
     "text": [
      "hnagato\n",
      "Expecting value: line 1 column 1 (char 0)\n",
      "giushansen\n",
      "Expecting value: line 1 column 1 (char 0)\n",
      "mohkale\n",
      "Expecting value: line 1 column 1 (char 0)\n",
      "mohlek\n",
      "Expecting value: line 1 column 1 (char 0)\n",
      "mohlendo\n",
      "Expecting value: line 1 column 1 (char 0)\n",
      "mohlerm\n",
      "Expecting value: line 1 column 1 (char 0)\n",
      "mohmf\n",
      "Expecting value: line 1 column 1 (char 0)\n",
      "results.db\n",
      "Expecting value: line 1 column 1 (char 0)\n",
      "Not found:  1912\n"
     ]
    }
   ],
   "source": [
    "input_folder = \"/home/gjungwirth/data/02_data/03_analyses/github_metadata/raw\"\n",
    "db_path = \"/home/gjungwirth/data/02_data/results.db\"\n",
    "\n",
    "db = sqlite3.connect(db_path)\n",
    "\n",
    "not_found_count = 0\n",
    "\n",
    "for file_name in os.listdir(input_folder):\n",
    "    try:\n",
    "        with open(input_folder+\"/\"+file_name, \"r\") as f:\n",
    "            content = json.load(f)\n",
    "            if \"message\" in content and content[\"message\"] == \"Not Found\":\n",
    "                not_found_count += 1\n",
    "                continue\n",
    "            db.execute('''\n",
    "            INSERT OR REPLACE INTO github_owner\n",
    "            (owner_id, owner_login, node_id, gravatar_id, type, site_admin, name, company, blog, location, email, hireable, bio,\n",
    "            twitter_username, public_repos, public_gists, followers, following, created_at, updated_at)\n",
    "            VALUES\n",
    "            (:owner_id, :owner_login, :node_id, :gravatar_id, :type, :site_admin, :name, :company, :blog, :location, :email, :hireable, :bio,\n",
    "            :twitter_username, :public_repos, :public_gists, :followers, :following, :created_at, :updated_at);\n",
    "            ''', {\n",
    "                \"owner_id\": content[\"id\"],\n",
    "                \"owner_login\": content[\"login\"],\n",
    "                \"node_id\": content[\"node_id\"],\n",
    "                \"gravatar_id\": content[\"gravatar_id\"],\n",
    "                \"type\": content[\"type\"],\n",
    "                \"site_admin\": content[\"site_admin\"],\n",
    "                \"name\": content[\"name\"],\n",
    "                \"company\": content[\"company\"],\n",
    "                \"blog\": content[\"blog\"],\n",
    "                \"location\": content[\"location\"],\n",
    "                \"email\": content[\"email\"],\n",
    "                \"hireable\": not not content[\"hireable\"],\n",
    "                \"bio\": content[\"bio\"],\n",
    "                \"twitter_username\": content[\"twitter_username\"],\n",
    "                \"public_repos\": content[\"public_repos\"],\n",
    "                \"public_gists\": content[\"public_gists\"],\n",
    "                \"followers\": content[\"followers\"],\n",
    "                \"following\": content[\"following\"],\n",
    "                \"created_at\": content[\"created_at\"],\n",
    "                \"updated_at\": content[\"updated_at\"],\n",
    "            })\n",
    "            db.commit()\n",
    "    except Exception as e:\n",
    "        print(file_name)\n",
    "        print(e)\n",
    "\n",
    "db.close()\n",
    "\n",
    "print(\"Not found: \", not_found_count)\n",
    "\n",
    "# note: 7 users which have not been downloaded correctly have been redownloaded and added retoactively\n"
   ]
  },
  {
   "cell_type": "code",
   "execution_count": 19,
   "metadata": {},
   "outputs": [],
   "source": [
    "db.close()"
   ]
  }
 ],
 "metadata": {
  "interpreter": {
   "hash": "9c25538c2a9117fbfde3642af8e9cf21789c5815496a0e906a9d26f99a6b6666"
  },
  "kernelspec": {
   "display_name": "Python 3.9.1 64-bit ('.venv': venv)",
   "name": "python3"
  },
  "language_info": {
   "codemirror_mode": {
    "name": "ipython",
    "version": 3
   },
   "file_extension": ".py",
   "mimetype": "text/x-python",
   "name": "python",
   "nbconvert_exporter": "python",
   "pygments_lexer": "ipython3",
   "version": "3.9.1"
  },
  "orig_nbformat": 4
 },
 "nbformat": 4,
 "nbformat_minor": 2
}